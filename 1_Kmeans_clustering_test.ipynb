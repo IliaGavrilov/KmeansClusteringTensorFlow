{
 "cells": [
  {
   "cell_type": "markdown",
   "metadata": {},
   "source": [
    "# K-mean clustering"
   ]
  },
  {
   "cell_type": "markdown",
   "metadata": {},
   "source": [
    "Clustering techniques are unsupervised learning algorithms that try to group unlabelled data into \"clusters\", using the (typically spatial) structure of the data itself."
   ]
  },
  {
   "cell_type": "code",
   "execution_count": 1,
   "metadata": {
    "collapsed": true
   },
   "outputs": [],
   "source": [
    "%matplotlib inline\n",
    "import math, operator\n",
    "import numpy as np\n",
    "import tensorflow as tf\n",
    "import matplotlib.pyplot as plt"
   ]
  },
  {
   "cell_type": "markdown",
   "metadata": {},
   "source": [
    "## Create data"
   ]
  },
  {
   "cell_type": "markdown",
   "metadata": {},
   "source": [
    "The easiest way to demonstrate how clustering works is to simply generate some data and show them in action."
   ]
  },
  {
   "cell_type": "code",
   "execution_count": 2,
   "metadata": {
    "collapsed": true
   },
   "outputs": [],
   "source": [
    "n_clusters = 6\n",
    "n_samples = 250"
   ]
  },
  {
   "cell_type": "markdown",
   "metadata": {},
   "source": [
    "To generate our data, we're going to pick 6 random points, which we'll call centroids, and for each point we're going to generate 250 random points about it.\n",
    "\n",
    "In statistical parlance, we're going to simulate 1500 realizations from 6 different bivariate normal distributions (250 each) with random centroids over the range -35, 35."
   ]
  },
  {
   "cell_type": "code",
   "execution_count": 3,
   "metadata": {
    "collapsed": true
   },
   "outputs": [],
   "source": [
    "centroids = np.random.uniform(-35, 35, (n_clusters, 2)) #https://docs.scipy.org/doc/numpy-1.13.0/reference/generated/numpy.random.uniform.html"
   ]
  },
  {
   "cell_type": "code",
   "execution_count": 4,
   "metadata": {
    "collapsed": true
   },
   "outputs": [],
   "source": [
    "slices = [np.random.multivariate_normal(centroids[i], np.diag([5.,5.]), n_samples) for i in range(n_clusters)] #https://docs.scipy.org/doc/numpy-1.13.0/reference/generated/numpy.random.multivariate_normal.html\n",
    "#https://docs.scipy.org/doc/numpy-1.13.0/reference/generated/numpy.diag.html"
   ]
  },
  {
   "cell_type": "code",
   "execution_count": 5,
   "metadata": {
    "collapsed": true
   },
   "outputs": [],
   "source": [
    "data = np.concatenate(slices).astype(np.float32) #https://docs.scipy.org/doc/numpy-1.13.0/reference/generated/numpy.concatenate.html\n",
    "#https://docs.scipy.org/doc/numpy-1.13.0/reference/generated/numpy.ndarray.astype.html\n",
    "#https://docs.scipy.org/doc/numpy-1.13.0/user/basics.types.html"
   ]
  },
  {
   "cell_type": "code",
   "execution_count": 6,
   "metadata": {},
   "outputs": [
    {
     "data": {
      "text/plain": [
       "array([[ 27.66680238, -29.86351132],\n",
       "       [ 30.40609027, -33.01072242],\n",
       "       [-23.02681218,  -0.89862698],\n",
       "       [  5.52424915,  -1.54085674],\n",
       "       [-14.54454733, -23.83861444],\n",
       "       [ 24.43746803,   0.38266026]])"
      ]
     },
     "execution_count": 6,
     "metadata": {},
     "output_type": "execute_result"
    }
   ],
   "source": [
    "centroids"
   ]
  },
  {
   "cell_type": "code",
   "execution_count": 7,
   "metadata": {},
   "outputs": [
    {
     "data": {
      "text/plain": [
       "(6, 250)"
      ]
     },
     "execution_count": 7,
     "metadata": {},
     "output_type": "execute_result"
    }
   ],
   "source": [
    "len(slices), len(slices[0])"
   ]
  },
  {
   "cell_type": "code",
   "execution_count": 8,
   "metadata": {},
   "outputs": [
    {
     "data": {
      "text/plain": [
       "((1500, 2), array([[ 26.90995026, -32.63692474],\n",
       "        [ 29.28204727, -26.0623951 ],\n",
       "        [ 26.2685833 , -29.18240738],\n",
       "        [ 25.04026794, -30.66462898],\n",
       "        [ 25.54991341, -30.87162399],\n",
       "        [ 24.05592728, -32.46619797]], dtype=float32))"
      ]
     },
     "execution_count": 8,
     "metadata": {},
     "output_type": "execute_result"
    }
   ],
   "source": [
    "data.shape, data[0:6]"
   ]
  },
  {
   "cell_type": "markdown",
   "metadata": {},
   "source": [
    "Below we can see each centroid marked w/ X, and the coloring associated to each respective cluster."
   ]
  },
  {
   "cell_type": "code",
   "execution_count": 9,
   "metadata": {
    "collapsed": true
   },
   "outputs": [],
   "source": [
    "def plot_data(centroids, data, n_samples):\n",
    "    colour = plt.cm.rainbow(np.linspace(0,1,len(centroids))) #https://matplotlib.org/examples/color/colormaps_reference.html\n",
    "    #https://docs.scipy.org/doc/numpy-1.13.0/reference/generated/numpy.linspace.html\n",
    "    for i, centroid in enumerate(centroids):\n",
    "        samples = data[i*n_samples:(i+1)*n_samples]\n",
    "        plt.scatter(samples[:,0], samples[:,1], c=colour[i], s=1) \n",
    "        #https://matplotlib.org/devdocs/api/_as_gen/matplotlib.pyplot.scatter.html\n",
    "        plt.plot(centroid[0], centroid[1], markersize=10, marker=\"x\", color='k', mew=5)\n",
    "        #https://matplotlib.org/api/_as_gen/matplotlib.pyplot.plot.html\n",
    "        plt.plot(centroid[0], centroid[1], markersize=5, marker=\"x\", color='m', mew=2)"
   ]
  },
  {
   "cell_type": "code",
   "execution_count": 10,
   "metadata": {},
   "outputs": [
    {
     "data": {
      "image/png": "[encoded data removed]",
      "text/plain": [
       "<matplotlib.figure.Figure at 0xcdefe6b1d0>"
      ]
     },
     "metadata": {},
     "output_type": "display_data"
    }
   ],
   "source": [
    "plot_data(centroids, data, n_samples)"
   ]
  },
  {
   "cell_type": "markdown",
   "metadata": {
    "collapsed": true
   },
   "source": [
    "## K-means"
   ]
  },
  {
   "cell_type": "markdown",
   "metadata": {},
   "source": [
    "The goal of clustering is to identify these clusters, defined by their centroids, given the raw data with no labels. Once these centroids have been identified, each point is labelled as belonging to the centroid it is closest to.\n",
    "\n",
    "K means clustering is a simple and popular approach of finding appropriate centroids. It does this by taking random centroids, and iteratively moving them to make the clusters as compact as possible.\n",
    "\n",
    "The algorithm is very simple:\n",
    "- Select the number of clusters N you want to find\n",
    "- Guess N random centroids (more on this below)\n",
    "- While centroids change:\n",
    "    - Create clusters by assigning each point to the nearest centroid\n",
    "    - For each cluster, define the new centroid as the centroid of all points assigned to it\n",
    "    \n",
    "Typically the algorithm is terminated once the change in centroids is negligible or after a certain number of iterations.\n",
    "\n",
    "While guessing random centroids is fine in theory, most implementations use the data itself to identify initial cluster points. This speeds up convergence by initializing centroids in the appropriate regime. Typically, inital points are selected amongst the data and tries to pick them to be as far apart as possible."
   ]
  },
  {
   "cell_type": "code",
   "execution_count": 45,
   "metadata": {},
   "outputs": [
    {
     "data": {
      "text/plain": [
       "<module 'Kmeans_class_module' from 'C:\\\\Users\\\\Gavrilov\\\\My Projects\\\\Kmeans\\\\Kmeans_class_module.py'>"
      ]
     },
     "execution_count": 45,
     "metadata": {},
     "output_type": "execute_result"
    }
   ],
   "source": [
    "import Kmeans_class_module \n",
    "from Kmeans_class_module import Kmeans\n",
    "import importlib\n",
    "from importlib import reload\n",
    "importlib.reload(Kmeans_class_module)"
   ]
  },
  {
   "cell_type": "code",
   "execution_count": 46,
   "metadata": {},
   "outputs": [],
   "source": [
    "k = Kmeans(data, n_clusters)"
   ]
  },
  {
   "cell_type": "code",
   "execution_count": 47,
   "metadata": {
    "collapsed": true
   },
   "outputs": [],
   "source": [
    "sess = tf.InteractiveSession() #https://www.tensorflow.org/api_docs/python/tf/InteractiveSession\n",
    "#interactive session basically means that you don't have to worry about creating a graph or a session or having a session with clause.\n",
    "#so, by creating an interactive session, we can kind of do things one step at a time."
   ]
  },
  {
   "cell_type": "markdown",
   "metadata": {},
   "source": [
    "Basic algorithm for initial centroids search;\n",
    "instead of picking them randomly it is better to use heuristics for picking them\n",
    "\n",
    "It looks a lot like in NumPy, except in places you would expect to see np we see tf; \n",
    "besides, in TensorFlow, pretty much everything takes and returns a tensor"
   ]
  },
  {
   "cell_type": "code",
   "execution_count": 117,
   "metadata": {
    "collapsed": true
   },
   "outputs": [],
   "source": [
    "#function to calculate every distance between every element of a and every element of b\n",
    "def all_distances(a, b):\n",
    "    #tensors broadcasting: a and b are one dimensional vectors, so it has no concept of what direction it's looking, it is now a row vector\n",
    "    diff = tf.squared_difference(tf.expand_dims(a, 0), tf.expand_dims(b,1)) \n",
    "    #https://www.tensorflow.org/api_docs/python/tf/expand_dims -for the a tensor we add an additional axis to axis 0\n",
    "    #for the b tensor we add additional axis to axis 1, so it is now definately column vector\n",
    "    #we end up with a matrix containing the difference between vectors (a row and b column?)\n",
    "    #https://www.tensorflow.org/api_docs/python/tf/squared_difference -we can call a squared_difference\n",
    "    return tf.reduce_sum(diff, axis=2) #https://www.tensorflow.org/api_docs/python/tf/reduce_sum -we can sum over the last axis, so the last axis is the dimensions"
   ]
  },
  {
   "cell_type": "code",
   "execution_count": 156,
   "metadata": {
    "collapsed": true
   },
   "outputs": [],
   "source": [
    "def find_initial_centroids(k):\n",
    "    #data was sent in as a NumPy array and then we called tf.Variable on it\n",
    "    #the data is now basically copied to the GPU\n",
    "    #copying occurs when you write tf.global_variales_initializer().run()\n",
    "    v_data = tf.Variable(data) #https://www.tensorflow.org/api_docs/python/tf/Variable\n",
    "    n_data, n_dim = data.shape\n",
    "    #first of all we pick a single datapoint index by finding random number\n",
    "    #we choose integer type because we trying to get random index, its going to be between zero and number data points we have\n",
    "    r_index = tf.random_uniform([1], 0, n_data, dtype=tf.int32) #https://www.tensorflow.org/api_docs/python/tf/random_uniform\n",
    "    #then we select that single datapoint\n",
    "    #we can go ahead and index into our data\n",
    "    r = tf.expand_dims(v_data[tf.squeeze(r_index)], dim=1) \n",
    "    #https://www.tensorflow.org/api_docs/python/tf/squeeze is for turning tensor into scalar, \n",
    "    #because then we're just indexing into here to get a single item back.\n",
    "    #https://www.tensorflow.org/api_docs/python/tf/expand_dims is for expanding scalar back again into a tensor,\n",
    "    #because inside our loop this is going to be a list of initial centroids\n",
    "    initial_centroids = []\n",
    "    #instead of standart Python loop we can use more serious performance tf tricks like below\n",
    "    #https://www.tensorflow.org/api_docs/python/tf/while_loop\n",
    "    #https://www.tensorflow.org/api_docs/python/tf/scan\n",
    "    #https://www.tensorflow.org/api_docs/python/tf/map_fn\n",
    "    for i in range(k):\n",
    "        #then we find what is the distance from that randomly selected datapoint to every other datapoint\n",
    "        dist = all_distances(v_data, r)\n",
    "        #then we look, what is the datapoint (index) that is the furthest away from that randomly selected datapoint\n",
    "        farthest_index = tf.argmax(tf.reduce_min(dist, axis=0), 0)  \n",
    "        #https://www.tensorflow.org/api_docs/python/tf/reduce_min -when we go reduce_min with axis 0, we finding out for every point, \n",
    "        #ow far away is it from its nearest initial centroid\n",
    "        #https://www.tensorflow.org/api_docs/python/tf/argmax -to find out index of the point which is furthest away\n",
    "        #then we look what at is the datapoint (point itself) that is the furthest away \n",
    "        farthest_point = v_data[tf.to_int32(farthest_index)]  \n",
    "        #then we're going to append that to the initial centroids\n",
    "        initial_centroids.append(farthest_point)\n",
    "        #first iteration inside the loop set our random point\n",
    "        #every new iteration we replace previous centroid with the actual\n",
    "        r = tf.stack(initial_centroids) #https://www.tensorflow.org/api_docs/python/tf/stack -stacking together initial centroids to create a tensor of them\n",
    "    return r\n",
    "#important to remember that when we run this code, nothing happens other than that it creates a computation graph\n",
    "#we can now must call .eval() "
   ]
  },
  {
   "cell_type": "code",
   "execution_count": 157,
   "metadata": {
    "scrolled": true
   },
   "outputs": [],
   "source": [
    "initial_centroids = find_initial_centroids(n_clusters)"
   ]
  },
  {
   "cell_type": "code",
   "execution_count": 158,
   "metadata": {
    "scrolled": true
   },
   "outputs": [
    {
     "data": {
      "text/plain": [
       "<tf.Tensor 'stack_145:0' shape=(6, 2) dtype=float32>"
      ]
     },
     "execution_count": 158,
     "metadata": {},
     "output_type": "execute_result"
    }
   ],
   "source": [
    "initial_centroids"
   ]
  },
  {
   "cell_type": "markdown",
   "metadata": {},
   "source": [
    "Interactive session methods"
   ]
  },
  {
   "cell_type": "code",
   "execution_count": 159,
   "metadata": {
    "collapsed": true
   },
   "outputs": [],
   "source": [
    "tf.global_variables_initializer().run()#you can call .run on a computation graph which doesn't return something"
   ]
  },
  {
   "cell_type": "code",
   "execution_count": 160,
   "metadata": {
    "scrolled": true
   },
   "outputs": [
    {
     "data": {
      "text/plain": [
       "array([[ 34.1779213 , -38.86890411],\n",
       "       [-29.37266731,   2.51355171],\n",
       "       [ 19.76370621,   5.6043458 ],\n",
       "       [-11.94545078, -30.16659355],\n",
       "       [ -1.57055295,  -1.34990346],\n",
       "       [ 23.27980232, -23.42946815]], dtype=float32)"
      ]
     },
     "execution_count": 160,
     "metadata": {},
     "output_type": "execute_result"
    }
   ],
   "source": [
    "#because we're in an interactive session we can now call .eval() \n",
    "initial_centroids.eval() # .eval() on a computation graph which does return something\n",
    "#it copies it off the GPU and puts it back into the CPU as a Numpy array"
   ]
  },
  {
   "cell_type": "code",
   "execution_count": 161,
   "metadata": {},
   "outputs": [
    {
     "data": {
      "image/png": "[encoded data removed]",
      "text/plain": [
       "<matplotlib.figure.Figure at 0xcdf81a1a20>"
      ]
     },
     "metadata": {},
     "output_type": "display_data"
    }
   ],
   "source": [
    "plot_data(initial_centroids.eval(), data, n_samples) #initial_centroids.eval() because we want to convert back from tensor to numpy array\n",
    "#which we can do by simply running .eval() on the transformed tensor"
   ]
  },
  {
   "cell_type": "code",
   "execution_count": null,
   "metadata": {
    "collapsed": true
   },
   "outputs": [],
   "source": []
  }
 ],
 "metadata": {
  "kernelspec": {
   "display_name": "Python 3",
   "language": "python",
   "name": "python3"
  },
  "language_info": {
   "codemirror_mode": {
    "name": "ipython",
    "version": 3
   },
   "file_extension": ".py",
   "mimetype": "text/x-python",
   "name": "python",
   "nbconvert_exporter": "python",
   "pygments_lexer": "ipython3",
   "version": "3.6.3"
  }
 },
 "nbformat": 4,
 "nbformat_minor": 2
}
