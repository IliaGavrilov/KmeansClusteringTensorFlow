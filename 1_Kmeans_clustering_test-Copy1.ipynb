{
 "cells": [
  {
   "cell_type": "markdown",
   "metadata": {},
   "source": [
    "# K-means clustering"
   ]
  },
  {
   "cell_type": "markdown",
   "metadata": {},
   "source": [
    "Clustering techniques are unsupervised learning algorithms that try to group unlabelled data into \"clusters\", using the (typically spatial) structure of the data itself."
   ]
  },
  {
   "cell_type": "code",
   "execution_count": 1,
   "metadata": {
    "collapsed": true
   },
   "outputs": [],
   "source": [
    "%matplotlib inline\n",
    "import math, operator\n",
    "import numpy as np\n",
    "import tensorflow as tf\n",
    "import matplotlib.pyplot as plt"
   ]
  },
  {
   "cell_type": "markdown",
   "metadata": {},
   "source": [
    "## Create data"
   ]
  },
  {
   "cell_type": "markdown",
   "metadata": {},
   "source": [
    "The easiest way to demonstrate how clustering works is to simply generate some data and show them in action."
   ]
  },
  {
   "cell_type": "code",
   "execution_count": 2,
   "metadata": {
    "collapsed": true
   },
   "outputs": [],
   "source": [
    "n_clusters = 6\n",
    "n_samples = 250"
   ]
  },
  {
   "cell_type": "markdown",
   "metadata": {},
   "source": [
    "To generate our data, we're going to pick 6 random points, which we'll call centroids, and for each point we're going to generate 250 random points about it.\n",
    "\n",
    "In statistical parlance, we're going to simulate 1500 realizations from 6 different bivariate normal distributions (250 each) with random centroids over the range -35, 35."
   ]
  },
  {
   "cell_type": "code",
   "execution_count": 3,
   "metadata": {
    "collapsed": true
   },
   "outputs": [],
   "source": [
    "centroids = np.random.uniform(-35, 35, (n_clusters, 2)) \n",
    "#https://docs.scipy.org/doc/numpy-1.13.0/reference/generated/numpy.random.uniform.html"
   ]
  },
  {
   "cell_type": "code",
   "execution_count": 4,
   "metadata": {
    "collapsed": true
   },
   "outputs": [],
   "source": [
    "slices = [np.random.multivariate_normal(centroids[i], np.diag([5.,5.]), n_samples) for i in range(n_clusters)] #https://docs.scipy.org/doc/numpy-1.13.0/reference/generated/numpy.random.multivariate_normal.html\n",
    "#https://docs.scipy.org/doc/numpy-1.13.0/reference/generated/numpy.diag.html"
   ]
  },
  {
   "cell_type": "code",
   "execution_count": 5,
   "metadata": {
    "collapsed": true
   },
   "outputs": [],
   "source": [
    "data = np.concatenate(slices).astype(np.float32) \n",
    "#https://docs.scipy.org/doc/numpy-1.13.0/reference/generated/numpy.concatenate.html\n",
    "#https://docs.scipy.org/doc/numpy-1.13.0/reference/generated/numpy.ndarray.astype.html\n",
    "#https://docs.scipy.org/doc/numpy-1.13.0/user/basics.types.html"
   ]
  },
  {
   "cell_type": "code",
   "execution_count": 6,
   "metadata": {},
   "outputs": [
    {
     "data": {
      "text/plain": [
       "array([[  8.46357546, -23.17575775],\n",
       "       [ 30.16939082,  31.94186429],\n",
       "       [-20.38155917,  31.35736777],\n",
       "       [ 10.90546052,   7.62675156],\n",
       "       [ 21.82074799,  18.45497297],\n",
       "       [ -2.90459196,  18.20835014]])"
      ]
     },
     "execution_count": 6,
     "metadata": {},
     "output_type": "execute_result"
    }
   ],
   "source": [
    "centroids"
   ]
  },
  {
   "cell_type": "code",
   "execution_count": 7,
   "metadata": {},
   "outputs": [
    {
     "data": {
      "text/plain": [
       "(6, 250)"
      ]
     },
     "execution_count": 7,
     "metadata": {},
     "output_type": "execute_result"
    }
   ],
   "source": [
    "len(slices), len(slices[0])"
   ]
  },
  {
   "cell_type": "code",
   "execution_count": 8,
   "metadata": {},
   "outputs": [
    {
     "data": {
      "text/plain": [
       "((1500, 2), array([[  8.02509117, -23.47152328],\n",
       "        [ 12.94975567, -27.57608223],\n",
       "        [  5.42683697, -21.15371132],\n",
       "        [  7.59631014, -23.54295349],\n",
       "        [  6.86570358, -23.18255424],\n",
       "        [  6.95040178, -25.5165062 ]], dtype=float32))"
      ]
     },
     "execution_count": 8,
     "metadata": {},
     "output_type": "execute_result"
    }
   ],
   "source": [
    "data.shape, data[0:6]"
   ]
  },
  {
   "cell_type": "markdown",
   "metadata": {},
   "source": [
    "Below we can see each centroid marked w/ X, and the coloring associated to each respective cluster."
   ]
  },
  {
   "cell_type": "code",
   "execution_count": 9,
   "metadata": {
    "collapsed": true
   },
   "outputs": [],
   "source": [
    "def plot_data(centroids, data, n_samples):\n",
    "    colour = plt.cm.rainbow(np.linspace(0,1,len(centroids))) \n",
    "    #https://matplotlib.org/examples/color/colormaps_reference.html\n",
    "    #https://docs.scipy.org/doc/numpy-1.13.0/reference/generated/numpy.linspace.html\n",
    "    for i, centroid in enumerate(centroids):\n",
    "        samples = data[i*n_samples:(i+1)*n_samples]\n",
    "        plt.scatter(samples[:,0], samples[:,1], c=colour[i], s=1) \n",
    "        #https://matplotlib.org/devdocs/api/_as_gen/matplotlib.pyplot.scatter.html\n",
    "        plt.plot(centroid[0], centroid[1], markersize=10, marker=\"x\", color='k', mew=5)\n",
    "        #https://matplotlib.org/api/_as_gen/matplotlib.pyplot.plot.html\n",
    "        plt.plot(centroid[0], centroid[1], markersize=5, marker=\"x\", color='m', mew=2)"
   ]
  },
  {
   "cell_type": "code",
   "execution_count": 10,
   "metadata": {},
   "outputs": [
    {
     "data": {
      "image/png": "[encoded data removed]",
      "text/plain": [
       "<matplotlib.figure.Figure at 0x17163e438>"
      ]
     },
     "metadata": {},
     "output_type": "display_data"
    }
   ],
   "source": [
    "plot_data(centroids, data, n_samples)"
   ]
  },
  {
   "cell_type": "markdown",
   "metadata": {
    "collapsed": true
   },
   "source": [
    "## K-means"
   ]
  },
  {
   "cell_type": "markdown",
   "metadata": {},
   "source": [
    "The goal of clustering is to identify these clusters, defined by their centroids, given the raw data with no labels. Once these centroids have been identified, each point is labelled as belonging to the centroid it is closest to.\n",
    "\n",
    "K means clustering is a simple and popular approach of finding appropriate centroids. It does this by taking random centroids, and iteratively moving them to make the clusters as compact as possible.\n",
    "\n",
    "The algorithm is very simple:\n",
    "- Select the number of clusters N you want to find\n",
    "- Guess N random centroids (more on this below)\n",
    "- While centroids change:\n",
    "    - Create clusters by assigning each point to the nearest centroid\n",
    "    - For each cluster, define the new centroid as the centroid of all points assigned to it\n",
    "    \n",
    "Typically the algorithm is terminated once the change in centroids is negligible or after a certain number of iterations.\n",
    "\n",
    "While guessing random centroids is fine in theory, most implementations use the data itself to identify initial cluster points. This speeds up convergence by initializing centroids in the appropriate regime. Typically, inital points are selected amongst the data and tries to pick them to be as far apart as possible."
   ]
  },
  {
   "cell_type": "code",
   "execution_count": 12,
   "metadata": {},
   "outputs": [
    {
     "data": {
      "text/plain": [
       "<module 'Kmeans_class_module' from 'C:\\\\Users\\\\Gavrilov\\\\My Projects\\\\Kmeans\\\\Kmeans_class_module.py'>"
      ]
     },
     "execution_count": 12,
     "metadata": {},
     "output_type": "execute_result"
    }
   ],
   "source": [
    "#will implement functions directly instead of using object-oriented module for visualisation purposes\n",
    "#import Kmeans_class_module \n",
    "#from Kmeans_class_module import Kmeans\n",
    "#import importlib\n",
    "#from importlib import reload\n",
    "#importlib.reload(Kmeans_class_module)"
   ]
  },
  {
   "cell_type": "code",
   "execution_count": 13,
   "metadata": {
    "collapsed": true
   },
   "outputs": [],
   "source": [
    "#k = Kmeans(data, n_clusters)"
   ]
  },
  {
   "cell_type": "code",
   "execution_count": 11,
   "metadata": {
    "collapsed": true
   },
   "outputs": [],
   "source": [
    "sess = tf.InteractiveSession() #https://www.tensorflow.org/api_docs/python/tf/InteractiveSession\n",
    "#interactive session basically means that you don't have to worry about creating a graph or a session \n",
    "#or having a session with clause\n",
    "#so, by creating an interactive session, we can kind of do things one step at a time"
   ]
  },
  {
   "cell_type": "markdown",
   "metadata": {},
   "source": [
    "### Basic algorithm for initial centroids search"
   ]
  },
  {
   "cell_type": "markdown",
   "metadata": {},
   "source": [
    "Instead of picking centroids randomly it is better to use heuristics for picking them\n",
    "\n",
    "It looks a lot like in NumPy, except in places you would expect to see np we see tf; \n",
    "\n",
    "besides, in TensorFlow, pretty much everything takes and returns a tensor"
   ]
  },
  {
   "cell_type": "code",
   "execution_count": 12,
   "metadata": {
    "collapsed": true
   },
   "outputs": [],
   "source": [
    "#function to calculate every distance between every element of a and every element of b using tensors broadcasting \n",
    "def all_distances(a, b):\n",
    "    #a and b are one dimensional vectors, \n",
    "    #so it has no concept of what direction it's looking, it is now a row vector\n",
    "    diff = tf.squared_difference(tf.expand_dims(a, 0), tf.expand_dims(b,1)) \n",
    "    #https://www.tensorflow.org/api_docs/python/tf/expand_dims \n",
    "    #for the a tensor we add an additional axis to axis 0\n",
    "    #for the b tensor we add additional axis to axis 1, so it is now definately column vector\n",
    "    #we end up with a matrix containing the difference between vectors (a row and b column?)\n",
    "    #https://www.tensorflow.org/api_docs/python/tf/squared_difference -we can call a squared_difference\n",
    "    return tf.reduce_sum(diff, axis=2) #https://www.tensorflow.org/api_docs/python/tf/reduce_sum \n",
    "    #we can sum over the last axis, so the last axis is the dimensions"
   ]
  },
  {
   "cell_type": "code",
   "execution_count": 14,
   "metadata": {
    "collapsed": true
   },
   "outputs": [],
   "source": [
    "def find_initial_centroids(k):\n",
    "    #data was sent in as a NumPy array and then we called tf.Variable on it\n",
    "    #the data is now basically copied to the GPU\n",
    "    #copying occurs when you write tf.global_variales_initializer().run()\n",
    "    v_data = tf.Variable(data) #https://www.tensorflow.org/api_docs/python/tf/Variable\n",
    "    n_data, n_dim = data.shape\n",
    "    #first of all we pick a single datapoint index by finding random number\n",
    "    #we choose integer type because we trying to get random index, \n",
    "    #its going to be between zero and number data points we have\n",
    "    r_index = tf.random_uniform([1], 0, n_data, dtype=tf.int32) \n",
    "    #https://www.tensorflow.org/api_docs/python/tf/random_uniform\n",
    "    #then we select that single datapoint\n",
    "    #we can go ahead and index into our data\n",
    "    r = tf.expand_dims(v_data[tf.squeeze(r_index)], dim=1) \n",
    "    #https://www.tensorflow.org/api_docs/python/tf/squeeze is for turning tensor into scalar, \n",
    "    #because then we're just indexing into here to get a single item back.\n",
    "    #https://www.tensorflow.org/api_docs/python/tf/expand_dims \n",
    "    #is for expanding scalar back again into a tensor,\n",
    "    #because inside our loop this is going to be a list of initial centroids\n",
    "    initial_centroids = []\n",
    "    #instead of standart Python loop we can use more serious performance tf tricks like below\n",
    "    #https://www.tensorflow.org/api_docs/python/tf/while_loop\n",
    "    #https://www.tensorflow.org/api_docs/python/tf/scan\n",
    "    #https://www.tensorflow.org/api_docs/python/tf/map_fn\n",
    "    for i in range(k):\n",
    "        #then we find what is the distance from that randomly selected datapoint to every other datapoint\n",
    "        dist = all_distances(v_data, r)\n",
    "        #then we look, what is the datapoint (index) \n",
    "        #that is the furthest away from that randomly selected datapoint\n",
    "        farthest_index = tf.argmax(tf.reduce_min(dist, axis=0), 0)  \n",
    "        #https://www.tensorflow.org/api_docs/python/tf/reduce_min \n",
    "        #when we go reduce_min with axis 0, we finding out for every point, \n",
    "        #how far away is it from its nearest initial centroid\n",
    "        #https://www.tensorflow.org/api_docs/python/tf/argmax \n",
    "        #to find out index of the point which is furthest away\n",
    "        #then we look what at is the datapoint (point itself) that is the furthest away \n",
    "        farthest_point = v_data[tf.to_int32(farthest_index)]  \n",
    "        #then we're going to append that to the initial centroids\n",
    "        initial_centroids.append(farthest_point)\n",
    "        #first iteration inside the loop set our random point\n",
    "        #every new iteration we replace previous centroid with the actual\n",
    "        r = tf.stack(initial_centroids) #https://www.tensorflow.org/api_docs/python/tf/stack \n",
    "        #stacking together initial centroids to create a tensor of them\n",
    "    return r\n",
    "#important to remember that when we run this code, nothing happens other than that it creates \n",
    "#a computation graph; we can now must call .eval() "
   ]
  },
  {
   "cell_type": "code",
   "execution_count": 15,
   "metadata": {
    "collapsed": true,
    "scrolled": true
   },
   "outputs": [],
   "source": [
    "initial_centroids = find_initial_centroids(n_clusters)"
   ]
  },
  {
   "cell_type": "code",
   "execution_count": 16,
   "metadata": {
    "scrolled": true
   },
   "outputs": [
    {
     "data": {
      "text/plain": [
       "<tf.Tensor 'stack_5:0' shape=(6, 2) dtype=float32>"
      ]
     },
     "execution_count": 16,
     "metadata": {},
     "output_type": "execute_result"
    }
   ],
   "source": [
    "initial_centroids"
   ]
  },
  {
   "cell_type": "markdown",
   "metadata": {},
   "source": [
    "### Tensorflow interactive session methods"
   ]
  },
  {
   "cell_type": "markdown",
   "metadata": {},
   "source": [
    "Step 1: copy our initial_centroids and copy them into our GPU"
   ]
  },
  {
   "cell_type": "code",
   "execution_count": 17,
   "metadata": {
    "collapsed": true
   },
   "outputs": [],
   "source": [
    "tf.global_variables_initializer().run() #you can call .run on a computation graph\n",
    "#InteractiveSession is a TensorFlow concept of name spaces and variables and whatever else\n",
    "#session is kind of like a namespace that holds the computation graphs and the variables and so forth\n",
    "#you can have multiple computation graphs, you can say with this graph create these various computations\n",
    "#it is similar to Pyton where you have a with clause"
   ]
  },
  {
   "cell_type": "code",
   "execution_count": 18,
   "metadata": {
    "scrolled": true
   },
   "outputs": [
    {
     "data": {
      "text/plain": [
       "array([[-28.06527901,  35.23803711],\n",
       "       [ 15.05169773, -29.39311218],\n",
       "       [ 35.83441544,  31.69282341],\n",
       "       [  6.20747995,   8.07304859],\n",
       "       [ -7.23181677,  23.02979851],\n",
       "       [ 24.60482216,  14.17608929]], dtype=float32)"
      ]
     },
     "execution_count": 18,
     "metadata": {},
     "output_type": "execute_result"
    }
   ],
   "source": [
    "#because we're in an interactive session we can now call .eval() \n",
    "initial_centroids.eval() # .eval() on a computation graph which does return something\n",
    "#it copies it off the GPU and puts it back into the CPU as a Numpy array"
   ]
  },
  {
   "cell_type": "code",
   "execution_count": 19,
   "metadata": {},
   "outputs": [
    {
     "data": {
      "image/png": "[encoded data removed]",
      "text/plain": [
       "<matplotlib.figure.Figure at 0x16c8c0d30>"
      ]
     },
     "metadata": {},
     "output_type": "display_data"
    }
   ],
   "source": [
    "plot_data(initial_centroids.eval(), data, n_samples) \n",
    "#initial_centroids.eval() because we want to convert back from tensor to numpy array\n",
    "#which we can do by simply running .eval() on the transformed tensor"
   ]
  },
  {
   "cell_type": "markdown",
   "metadata": {
    "collapsed": true
   },
   "source": [
    "Step 2 of interactive session perspective: copying centroids back to the GPU\n",
    "\n",
    "Task is to assign every point and assign them to a cluster, i.e. for every point which of the centroids is the closest "
   ]
  },
  {
   "cell_type": "code",
   "execution_count": 20,
   "metadata": {
    "collapsed": true
   },
   "outputs": [],
   "source": [
    "curr_centroids = tf.Variable(initial_centroids)"
   ]
  },
  {
   "cell_type": "code",
   "execution_count": 21,
   "metadata": {
    "collapsed": true
   },
   "outputs": [],
   "source": [
    "def assign_to_nearest(centroids):\n",
    "    v_data = tf.Variable(data)\n",
    "    return tf.argmin(all_distances(v_data, centroids), 0) \n",
    "    #all_distances function is finds a distance between every piece of data and its centroid\n",
    "    #rather than calling tf.reduce_min, which would return the distance to its nearest centroid, \n",
    "    #we call tf.argmin to get the index of its nearest centroid\n",
    "    #0 is an axis are we working with"
   ]
  },
  {
   "cell_type": "code",
   "execution_count": 22,
   "metadata": {
    "collapsed": true
   },
   "outputs": [],
   "source": [
    "nearest_indices = assign_to_nearest(curr_centroids) #a list of which centroid is the closest for every datapoint"
   ]
  },
  {
   "cell_type": "code",
   "execution_count": 23,
   "metadata": {},
   "outputs": [
    {
     "data": {
      "text/plain": [
       "<tf.Tensor 'ArgMin:0' shape=(1500,) dtype=int64>"
      ]
     },
     "execution_count": 23,
     "metadata": {},
     "output_type": "execute_result"
    }
   ],
   "source": [
    "nearest_indices"
   ]
  },
  {
   "cell_type": "markdown",
   "metadata": {},
   "source": [
    "Updating an existing variable with some new data"
   ]
  },
  {
   "cell_type": "code",
   "execution_count": 24,
   "metadata": {
    "collapsed": true
   },
   "outputs": [],
   "source": [
    "#dynamic_partition GPU function in TensorFlow\n",
    "def update_centroids(nearest_indices):\n",
    "    v_data = tf.Variable(data)\n",
    "    partitions = tf.dynamic_partition(v_data, tf.to_int32(nearest_indices), n_clusters)\n",
    "    #https://www.tensorflow.org/api_docs/python/tf/dynamic_partition \n",
    "    #partitioning in general is taking a set of data \n",
    "    #and sticking it into multiple chunks of data according to some kind of criteria\n",
    "    #dynamic_partition takes data (tensor v_data in our case), \n",
    "    #and partitions it into number of partitions (num_partitions which is n_clusters),\n",
    "    #using indices from partitions (nearest_indices);\n",
    "    #now it is a separate tensor for each of our clusters\n",
    "    return tf.concat([tf.expand_dims(tf.reduce_mean(partition, 0), 0) for partition in partitions], 0)\n",
    "    #https://www.tensorflow.org/api_docs/python/tf/reduce_mean \n",
    "    #to compute mean of each of clusters (from partitions),\n",
    "    #which would be our new centroid, i.e. average of previous data points\n",
    "    #then we have our new partition, our new clusters; so then we can just concatenate them all together"
   ]
  },
  {
   "cell_type": "code",
   "execution_count": 25,
   "metadata": {
    "collapsed": true
   },
   "outputs": [],
   "source": [
    "updated_centroids = update_centroids(nearest_indices)"
   ]
  },
  {
   "cell_type": "code",
   "execution_count": 26,
   "metadata": {},
   "outputs": [
    {
     "data": {
      "text/plain": [
       "<tf.Tensor 'concat:0' shape=(6, 2) dtype=float32>"
      ]
     },
     "execution_count": 26,
     "metadata": {},
     "output_type": "execute_result"
    }
   ],
   "source": [
    "updated_centroids"
   ]
  },
  {
   "cell_type": "code",
   "execution_count": 27,
   "metadata": {
    "collapsed": true
   },
   "outputs": [],
   "source": [
    "tf.global_variables_initializer().run() \n",
    "#because we assign a variable v_data = tf.Variable(data) we have to call initializer\n",
    "#otherwise there would be FailedPreconditionError: Attempting to use uninitialized value"
   ]
  },
  {
   "cell_type": "code",
   "execution_count": 28,
   "metadata": {},
   "outputs": [
    {
     "data": {
      "image/png": "[encoded data removed]",
      "text/plain": [
       "<matplotlib.figure.Figure at 0x11a24da58>"
      ]
     },
     "metadata": {},
     "output_type": "display_data"
    }
   ],
   "source": [
    "plot_data(updated_centroids.eval(), data, n_samples)\n",
    "#we have to call updated_centroids.eval() to actually call the computation graph \n",
    "#and copy it back to our CPU "
   ]
  },
  {
   "cell_type": "markdown",
   "metadata": {
    "collapsed": true
   },
   "source": [
    "then we want to replace the contents of the current centroids with the contents of updated centroids"
   ]
  },
  {
   "cell_type": "code",
   "execution_count": 29,
   "metadata": {},
   "outputs": [
    {
     "data": {
      "text/plain": [
       "<tf.Tensor 'Assign:0' shape=(6, 2) dtype=float32_ref>"
      ]
     },
     "execution_count": 29,
     "metadata": {},
     "output_type": "execute_result"
    }
   ],
   "source": [
    "curr_centroids.assign(updated_centroids) #we can't just say equals (everything's different in TensorFlow),\n",
    "#you have to call .assign; \n",
    "#it's creating a computation graph that basically does that assignment on the GPU"
   ]
  },
  {
   "cell_type": "markdown",
   "metadata": {},
   "source": [
    "#### Complete computation graph in TensorFlow using Notebook"
   ]
  },
  {
   "cell_type": "code",
   "execution_count": null,
   "metadata": {
    "collapsed": true
   },
   "outputs": [],
   "source": [
    "#end-to-end algorithm\n",
    "#each of a computations one step of a time in one function altogether\n",
    "#def run():\n",
    "#    tf.global_variables_initializer().run()\n",
    "#    initial_centroids = find_initial_centroids(n_clusters)#.eval()\n",
    "#    curr_centroids = tf.Variable(initial_centroids) #put initial centroid into variable\n",
    "#    nearest_indices = assign_to_nearest(curr_centroids)\n",
    "#    updated_centroids = update_centroids(nearest_indices)\n",
    "     #begin main algorithm\n",
    "#    tf.global_variables_initializer().run() \n",
    "     #because we created variable we have to rerun global variable initializer\n",
    "     #we could avoided this by not calling .eval and just threading initial_centroids \n",
    "     #as a variable the whole time\n",
    "#    c = initial_centroids\n",
    "#    for i in range(10):\n",
    "#        c2 = curr_centroids.assign(updated_centroids)#.eval()\n",
    "#        if np.allclose(c,c2):\n",
    "         #https://docs.scipy.org/doc/numpy-1.13.0/reference/generated/numpy.allclose.html\n",
    "         #checking have any of the cluster centroids moved and if they haven't loop will stop working\n",
    "#            break\n",
    "#        c = c2\n",
    "#    return c2"
   ]
  },
  {
   "cell_type": "code",
   "execution_count": null,
   "metadata": {
    "collapsed": true
   },
   "outputs": [],
   "source": [
    "#with tf.Session().as_default(): \n",
    "#    new_centroids = run()\n",
    "#https://www.tensorflow.org/api_docs/python/tf/Session -creates a session \n",
    "#https://www.tensorflow.org/versions/r1.2/api_docs/python/tf/Graph#as_default \n",
    "#-sets it to the current session\n",
    "#https://docs.python.org/3/reference/compound_stmts.html#with -within the with block we can run things"
   ]
  },
  {
   "cell_type": "markdown",
   "metadata": {},
   "source": [
    "The result are centroids that have minimized the total distance between all points and their centroids; the centroids are \"optimal\" in this sense.\n",
    "\n",
    "There are some problems with K-means clustering.\n",
    "* Number of clusters needs to be known a priori\n",
    "    * This is an obvious failure of an unsupervised learning algorithm; we want the data to \"speak for itself\"\n",
    "    * Difficult to identify in higher dimensions\n",
    "    \n",
    "* Naive approach only works if the clusters are the same shape\n",
    "    * This is because centroid is identified using euclidean distance"
   ]
  },
  {
   "cell_type": "markdown",
   "metadata": {},
   "source": [
    "## Mean-shift clustering using approximate nearest neighbors(?)"
   ]
  },
  {
   "cell_type": "code",
   "execution_count": null,
   "metadata": {
    "collapsed": true
   },
   "outputs": [],
   "source": []
  }
 ],
 "metadata": {
  "kernelspec": {
   "display_name": "Python 3",
   "language": "python",
   "name": "python3"
  },
  "language_info": {
   "codemirror_mode": {
    "name": "ipython",
    "version": 3
   },
   "file_extension": ".py",
   "mimetype": "text/x-python",
   "name": "python",
   "nbconvert_exporter": "python",
   "pygments_lexer": "ipython3",
   "version": "3.6.3"
  }
 },
 "nbformat": 4,
 "nbformat_minor": 2
}
